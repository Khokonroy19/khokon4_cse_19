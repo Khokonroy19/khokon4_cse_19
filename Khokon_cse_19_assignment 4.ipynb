{
 "cells": [
  {
   "cell_type": "markdown",
   "id": "plastic-vegetarian",
   "metadata": {},
   "source": [
    "<h1>Problem 1\n",
    " "
   ]
  },
  {
   "cell_type": "markdown",
   "id": "internal-degree",
   "metadata": {},
   "source": [
    "<b>1. Write a Python program to find those numbers which are divisible by 8 and 3 but multiple of 9, between 1000 and 1800 (both included).  "
   ]
  },
  {
   "cell_type": "code",
   "execution_count": 5,
   "id": "facial-realtor",
   "metadata": {},
   "outputs": [
    {
     "name": "stdout",
     "output_type": "stream",
     "text": [
      "1008\n",
      "1080\n",
      "1152\n",
      "1224\n",
      "1296\n",
      "1368\n",
      "1440\n",
      "1512\n",
      "1584\n",
      "1656\n",
      "1728\n",
      "1800\n"
     ]
    }
   ],
   "source": [
    "for i in range(1000,1801):\n",
    "    if(i%8==0 and i%3==0 and i%9==0):\n",
    "        print(i)"
   ]
  },
  {
   "cell_type": "markdown",
   "id": "rational-winner",
   "metadata": {},
   "source": [
    "<h1>Problem 2"
   ]
  },
  {
   "cell_type": "markdown",
   "id": "charged-property",
   "metadata": {},
   "source": [
    "<p>touple = ('I','E','E','E','H','S','T','U','S','B')\n",
    "Using this touple, write a program whose output will be IEEE HSTU SB.\n"
   ]
  },
  {
   "cell_type": "code",
   "execution_count": 2,
   "id": "included-observation",
   "metadata": {},
   "outputs": [
    {
     "name": "stdout",
     "output_type": "stream",
     "text": [
      "Orginal touple:\n",
      "('I', 'E', 'E', 'E', 'H', 'S', 'T', 'U', 'S', 'B')\n",
      "Convert the touple into string:\n",
      "IEEE HSTU SB\n"
     ]
    }
   ],
   "source": [
    "\n",
    "touple=('I','E','E','E','H','S','T','U','S','B')\n",
    "print(\"Orginal touple:\")\n",
    "print(touple)\n",
    "print(\"Convert the touple into string:\")\n",
    "\n",
    "touple= ('I','E','E','E','H','S','T','U','S','B')\n",
    "\n",
    "t1 = touple[0:4]\n",
    "t1 =  ''.join(t1)\n",
    "\n",
    "t2 = touple[4:8]\n",
    "t2 =  ''.join(t2)\n",
    "\n",
    "t3 = touple[8:]\n",
    "t3 =  ''.join(t3)\n",
    "\n",
    "str = t1+' '+t2+' '+t3\n",
    "\n",
    "print(str)          \n"
   ]
  },
  {
   "cell_type": "markdown",
   "id": "increased-dressing",
   "metadata": {},
   "source": [
    "<h1>Problem 3"
   ]
  },
  {
   "cell_type": "markdown",
   "id": "recorded-health",
   "metadata": {},
   "source": [
    "<b> Write a Python program to check a triangle is equilateral, isosceles or scalene.\n",
    "Note :\n",
    "An equilateral triangle is a triangle in which all three sides are equal.\n",
    "A scalene triangle is a triangle that has three unequal sides.\n",
    "An isosceles triangle is a triangle with (at least) two equal sides."
   ]
  },
  {
   "cell_type": "code",
   "execution_count": 9,
   "id": "statutory-orlando",
   "metadata": {},
   "outputs": [
    {
     "name": "stdout",
     "output_type": "stream",
     "text": [
      "Enter a:1\n",
      "Enter b:2\n",
      "Enter c:3\n",
      "scalene triangle\n"
     ]
    }
   ],
   "source": [
    "a=int(input(\"Enter a:\"))\n",
    "b=int(input(\"Enter b:\"))\n",
    "c=int(input(\"Enter c:\"))\n",
    "if(a==b and b==a and b==c and c==b and c==a and a==c):\n",
    "    print(\"equilateral triangle\")\n",
    "    \n",
    "elif((a==b and b==a) or(b==c and c==b) or(c==a and a==c)):\n",
    "    print(\"isosceles triangle \")\n",
    "    \n",
    "    \n",
    "else:\n",
    "    print(\"scalene triangle\")\n",
    "    "
   ]
  },
  {
   "cell_type": "markdown",
   "id": "fiscal-quebec",
   "metadata": {},
   "source": [
    "<h1>Problem 4"
   ]
  },
  {
   "cell_type": "markdown",
   "id": "manufactured-negotiation",
   "metadata": {},
   "source": [
    "<p>Write a Python program to create the multiplication table (from 1 to 10) of a number.\n"
   ]
  },
  {
   "cell_type": "code",
   "execution_count": 10,
   "id": "selected-specific",
   "metadata": {},
   "outputs": [
    {
     "name": "stdout",
     "output_type": "stream",
     "text": [
      "Enter input:7\n",
      "7 X 1 = 7\n",
      "7 X 2 = 14\n",
      "7 X 3 = 21\n",
      "7 X 4 = 28\n",
      "7 X 5 = 35\n",
      "7 X 6 = 42\n",
      "7 X 7 = 49\n",
      "7 X 8 = 56\n",
      "7 X 9 = 63\n",
      "7 X 10 = 70\n"
     ]
    }
   ],
   "source": [
    "x=int(input(\"Enter input:\"))\n",
    "for i in range(1,11):\n",
    "    print(x,'X',i,'=',x*i)"
   ]
  },
  {
   "cell_type": "markdown",
   "id": "aware-chest",
   "metadata": {},
   "source": [
    "<h1>Problem 5"
   ]
  },
  {
   "cell_type": "markdown",
   "id": "detailed-summary",
   "metadata": {},
   "source": [
    "<b>Write a python program to check whether a given year is a leap year\n"
   ]
  },
  {
   "cell_type": "code",
   "execution_count": 1,
   "id": "soviet-butter",
   "metadata": {},
   "outputs": [
    {
     "name": "stdout",
     "output_type": "stream",
     "text": [
      "Enter year:2000\n",
      "Leap year\n"
     ]
    }
   ],
   "source": [
    "year=int(input(\"Enter year:\"))\n",
    "if(year%400==0):\n",
    "    print(\"Leap year\")\n",
    "    \n",
    "elif(year%4==0 and year%100!=0):\n",
    "    print(\"Leap year\")\n",
    "    \n",
    "else:\n",
    "    print(\"Not Leap year\")"
   ]
  },
  {
   "cell_type": "markdown",
   "id": "associate-egypt",
   "metadata": {},
   "source": [
    "<h1>Problem 6"
   ]
  },
  {
   "cell_type": "markdown",
   "id": "paperback-montgomery",
   "metadata": {},
   "source": [
    "<b>Write the programs to get the areas of a) triangle, b)Rectangle, c) circle."
   ]
  },
  {
   "cell_type": "markdown",
   "id": "mineral-paradise",
   "metadata": {},
   "source": [
    "<p>if we want to find out the area of triangle,fristly we will get base and height"
   ]
  },
  {
   "cell_type": "code",
   "execution_count": 2,
   "id": "stunning-negotiation",
   "metadata": {},
   "outputs": [
    {
     "name": "stdout",
     "output_type": "stream",
     "text": [
      "enter base:2\n",
      "enter height:5\n",
      "Area of triange is = 5.0\n"
     ]
    }
   ],
   "source": [
    "base=int(input(\"enter base:\"))\n",
    "height=int(input(\"enter height:\"))\n",
    "area=0.5*base*height\n",
    "print(\"Area of triange is =\",area)"
   ]
  },
  {
   "cell_type": "markdown",
   "id": "editorial-collins",
   "metadata": {},
   "source": [
    "<p>if we want to find out the area of rectangle,fristly we will get width and length"
   ]
  },
  {
   "cell_type": "code",
   "execution_count": 3,
   "id": "supported-resident",
   "metadata": {},
   "outputs": [
    {
     "name": "stdout",
     "output_type": "stream",
     "text": [
      "enter width:2\n",
      "enter length:3\n",
      "Area of rectangle is = 6\n"
     ]
    }
   ],
   "source": [
    "width=int(input(\"enter width:\"))\n",
    "length=int(input(\"enter length:\"))\n",
    "A=width*length\n",
    "print(\"Area of rectangle is =\",A)"
   ]
  },
  {
   "cell_type": "markdown",
   "id": "worth-performance",
   "metadata": {},
   "source": [
    "<p>if we want to find out the area of circle,we will need radius of circle"
   ]
  },
  {
   "cell_type": "code",
   "execution_count": 6,
   "id": "ranging-viking",
   "metadata": {},
   "outputs": [
    {
     "name": "stdout",
     "output_type": "stream",
     "text": [
      "Enter radius:2\n",
      "Area of circle is = 12.57\n"
     ]
    }
   ],
   "source": [
    "r=int(input(\"Enter radius:\"))\n",
    "pi=3.1416\n",
    "area=pi*r*r\n",
    "print(\"Area of circle is = %.2f\" %area)"
   ]
  },
  {
   "cell_type": "code",
   "execution_count": null,
   "id": "utility-directive",
   "metadata": {},
   "outputs": [],
   "source": []
  }
 ],
 "metadata": {
  "kernelspec": {
   "display_name": "Python 3",
   "language": "python",
   "name": "python3"
  },
  "language_info": {
   "codemirror_mode": {
    "name": "ipython",
    "version": 3
   },
   "file_extension": ".py",
   "mimetype": "text/x-python",
   "name": "python",
   "nbconvert_exporter": "python",
   "pygments_lexer": "ipython3",
   "version": "3.9.2"
  }
 },
 "nbformat": 4,
 "nbformat_minor": 5
}
